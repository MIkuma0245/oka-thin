{
  "cells": [
    {
      "cell_type": "markdown",
      "metadata": {
        "id": "DRlzVW_zUedC"
      },
      "source": [
        "### ファインチューン結果の比較ツール　[![Open In Colab](https://colab.research.google.com/assets/colab-badge.svg)](http://colab.research.google.com/github/TaroNakasendo/output_jsonl_comparer/blob/main/google_colab.ipynb)"
      ]
    },
    {
      "cell_type": "code",
      "execution_count": 1,
      "metadata": {
        "id": "i5XKFOSkUedE",
        "outputId": "bf527cac-4ae3-445d-bf77-89a95cf1d0a2",
        "colab": {
          "base_uri": "https://localhost:8080/"
        }
      },
      "outputs": [
        {
          "output_type": "stream",
          "name": "stdout",
          "text": [
            "\u001b[2K   \u001b[90m━━━━━━━━━━━━━━━━━━━━━━━━━━━━━━━━━━━━━━━━\u001b[0m \u001b[32m57.2/57.2 MB\u001b[0m \u001b[31m10.6 MB/s\u001b[0m eta \u001b[36m0:00:00\u001b[0m\n",
            "\u001b[2K   \u001b[90m━━━━━━━━━━━━━━━━━━━━━━━━━━━━━━━━━━━━━━━━\u001b[0m \u001b[32m320.2/320.2 kB\u001b[0m \u001b[31m19.0 MB/s\u001b[0m eta \u001b[36m0:00:00\u001b[0m\n",
            "\u001b[2K   \u001b[90m━━━━━━━━━━━━━━━━━━━━━━━━━━━━━━━━━━━━━━━━\u001b[0m \u001b[32m94.8/94.8 kB\u001b[0m \u001b[31m5.9 MB/s\u001b[0m eta \u001b[36m0:00:00\u001b[0m\n",
            "\u001b[2K   \u001b[90m━━━━━━━━━━━━━━━━━━━━━━━━━━━━━━━━━━━━━━━━\u001b[0m \u001b[32m11.2/11.2 MB\u001b[0m \u001b[31m56.2 MB/s\u001b[0m eta \u001b[36m0:00:00\u001b[0m\n",
            "\u001b[2K   \u001b[90m━━━━━━━━━━━━━━━━━━━━━━━━━━━━━━━━━━━━━━━━\u001b[0m \u001b[32m73.2/73.2 kB\u001b[0m \u001b[31m5.0 MB/s\u001b[0m eta \u001b[36m0:00:00\u001b[0m\n",
            "\u001b[2K   \u001b[90m━━━━━━━━━━━━━━━━━━━━━━━━━━━━━━━━━━━━━━━━\u001b[0m \u001b[32m63.8/63.8 kB\u001b[0m \u001b[31m5.8 MB/s\u001b[0m eta \u001b[36m0:00:00\u001b[0m\n",
            "\u001b[2K   \u001b[90m━━━━━━━━━━━━━━━━━━━━━━━━━━━━━━━━━━━━━━━━\u001b[0m \u001b[32m168.2/168.2 kB\u001b[0m \u001b[31m14.8 MB/s\u001b[0m eta \u001b[36m0:00:00\u001b[0m\n",
            "\u001b[?25h"
          ]
        }
      ],
      "source": [
        "# 準備\n",
        "%pip install -q gradio"
      ]
    },
    {
      "cell_type": "markdown",
      "metadata": {
        "id": "KgsUH7C6UedE"
      },
      "source": [
        "比較したい２つのJSONLファイルをアップロードしてください"
      ]
    },
    {
      "cell_type": "code",
      "execution_count": 2,
      "metadata": {
        "id": "8WWLMO7AUedE"
      },
      "outputs": [],
      "source": [
        "# 比較したい2つの結果ファイルへのパスを指定してください\n",
        "output_files = {\"old\": \"/content/llm-jp-3-13b-it6-elyza100tune-Ver5_output.jsonl\", \"now\": \"/content/llm-jp-3-13b-itver5 + IChikawa_output.jsonl\"}"
      ]
    },
    {
      "cell_type": "markdown",
      "metadata": {
        "id": "UrtIe_njUedE"
      },
      "source": [
        "メインの処理"
      ]
    },
    {
      "cell_type": "code",
      "execution_count": 3,
      "metadata": {
        "id": "v7X6qXNUUedF",
        "outputId": "9cec4d56-3b1f-49e8-db58-9ce6fc1c650a",
        "colab": {
          "base_uri": "https://localhost:8080/",
          "height": 355
        }
      },
      "outputs": [
        {
          "output_type": "error",
          "ename": "FileNotFoundError",
          "evalue": "[Errno 2] No such file or directory: '/content/llm-jp-3-13b-finetune-outputs.jsonl'",
          "traceback": [
            "\u001b[0;31m---------------------------------------------------------------------------\u001b[0m",
            "\u001b[0;31mFileNotFoundError\u001b[0m                         Traceback (most recent call last)",
            "\u001b[0;32m<ipython-input-3-9a9aeeb95491>\u001b[0m in \u001b[0;36m<cell line: 84>\u001b[0;34m()\u001b[0m\n\u001b[1;32m     82\u001b[0m \u001b[0;34m\u001b[0m\u001b[0m\n\u001b[1;32m     83\u001b[0m \u001b[0;34m\u001b[0m\u001b[0m\n\u001b[0;32m---> 84\u001b[0;31m \u001b[0mmain\u001b[0m\u001b[0;34m(\u001b[0m\u001b[0;34m)\u001b[0m\u001b[0;34m\u001b[0m\u001b[0;34m\u001b[0m\u001b[0m\n\u001b[0m",
            "\u001b[0;32m<ipython-input-3-9a9aeeb95491>\u001b[0m in \u001b[0;36mmain\u001b[0;34m()\u001b[0m\n\u001b[1;32m     14\u001b[0m     data = [\n\u001b[1;32m     15\u001b[0m         \u001b[0;34m(\u001b[0m\u001b[0mo\u001b[0m\u001b[0;34m[\u001b[0m\u001b[0;34m\"task_id\"\u001b[0m\u001b[0;34m]\u001b[0m\u001b[0;34m,\u001b[0m \u001b[0mo\u001b[0m\u001b[0;34m[\u001b[0m\u001b[0;34m\"input\"\u001b[0m\u001b[0;34m]\u001b[0m\u001b[0;34m,\u001b[0m \u001b[0mo\u001b[0m\u001b[0;34m[\u001b[0m\u001b[0;34m\"output\"\u001b[0m\u001b[0;34m]\u001b[0m\u001b[0;34m,\u001b[0m \u001b[0mn\u001b[0m\u001b[0;34m[\u001b[0m\u001b[0;34m\"output\"\u001b[0m\u001b[0;34m]\u001b[0m\u001b[0;34m)\u001b[0m\u001b[0;34m\u001b[0m\u001b[0;34m\u001b[0m\u001b[0m\n\u001b[0;32m---> 16\u001b[0;31m         \u001b[0;32mfor\u001b[0m \u001b[0mo\u001b[0m\u001b[0;34m,\u001b[0m \u001b[0mn\u001b[0m \u001b[0;32min\u001b[0m \u001b[0mzip\u001b[0m\u001b[0;34m(\u001b[0m\u001b[0mload_jsonl\u001b[0m\u001b[0;34m(\u001b[0m\u001b[0;34m\"old\"\u001b[0m\u001b[0;34m)\u001b[0m\u001b[0;34m,\u001b[0m \u001b[0mload_jsonl\u001b[0m\u001b[0;34m(\u001b[0m\u001b[0;34m\"now\"\u001b[0m\u001b[0;34m)\u001b[0m\u001b[0;34m)\u001b[0m\u001b[0;34m\u001b[0m\u001b[0;34m\u001b[0m\u001b[0m\n\u001b[0m\u001b[1;32m     17\u001b[0m     ]\n\u001b[1;32m     18\u001b[0m \u001b[0;34m\u001b[0m\u001b[0m\n",
            "\u001b[0;32m<ipython-input-3-9a9aeeb95491>\u001b[0m in \u001b[0;36mload_jsonl\u001b[0;34m(key)\u001b[0m\n\u001b[1;32m      8\u001b[0m     \u001b[0;31m# JSONL読込\u001b[0m\u001b[0;34m\u001b[0m\u001b[0;34m\u001b[0m\u001b[0m\n\u001b[1;32m      9\u001b[0m     \u001b[0;32mdef\u001b[0m \u001b[0mload_jsonl\u001b[0m\u001b[0;34m(\u001b[0m\u001b[0mkey\u001b[0m\u001b[0;34m)\u001b[0m\u001b[0;34m:\u001b[0m\u001b[0;34m\u001b[0m\u001b[0;34m\u001b[0m\u001b[0m\n\u001b[0;32m---> 10\u001b[0;31m         \u001b[0;32mwith\u001b[0m \u001b[0mopen\u001b[0m\u001b[0;34m(\u001b[0m\u001b[0moutput_files\u001b[0m\u001b[0;34m[\u001b[0m\u001b[0mkey\u001b[0m\u001b[0;34m]\u001b[0m\u001b[0;34m,\u001b[0m \u001b[0;34m\"r\"\u001b[0m\u001b[0;34m,\u001b[0m \u001b[0mencoding\u001b[0m\u001b[0;34m=\u001b[0m\u001b[0;34m\"utf-8\"\u001b[0m\u001b[0;34m)\u001b[0m \u001b[0;32mas\u001b[0m \u001b[0mf\u001b[0m\u001b[0;34m:\u001b[0m\u001b[0;34m\u001b[0m\u001b[0;34m\u001b[0m\u001b[0m\n\u001b[0m\u001b[1;32m     11\u001b[0m             \u001b[0;32mreturn\u001b[0m \u001b[0;34m[\u001b[0m\u001b[0mjson\u001b[0m\u001b[0;34m.\u001b[0m\u001b[0mloads\u001b[0m\u001b[0;34m(\u001b[0m\u001b[0mline\u001b[0m\u001b[0;34m)\u001b[0m \u001b[0;32mfor\u001b[0m \u001b[0mline\u001b[0m \u001b[0;32min\u001b[0m \u001b[0mf\u001b[0m\u001b[0;34m]\u001b[0m\u001b[0;34m\u001b[0m\u001b[0;34m\u001b[0m\u001b[0m\n\u001b[1;32m     12\u001b[0m \u001b[0;34m\u001b[0m\u001b[0m\n",
            "\u001b[0;31mFileNotFoundError\u001b[0m: [Errno 2] No such file or directory: '/content/llm-jp-3-13b-finetune-outputs.jsonl'"
          ]
        }
      ],
      "source": [
        "import gradio as gr\n",
        "import json\n",
        "\n",
        "title = \"ファインチューン結果の比較ツール\"\n",
        "\n",
        "def main():\n",
        "\n",
        "    # JSONL読込\n",
        "    def load_jsonl(key):\n",
        "        with open(output_files[key], \"r\", encoding=\"utf-8\") as f:\n",
        "            return [json.loads(line) for line in f]\n",
        "\n",
        "    # データ展開\n",
        "    data = [\n",
        "        (o[\"task_id\"], o[\"input\"], o[\"output\"], n[\"output\"])\n",
        "        for o, n in zip(load_jsonl(\"old\"), load_jsonl(\"now\"))\n",
        "    ]\n",
        "\n",
        "    shortcut_js = \"\"\"\n",
        "<script>\n",
        "function shortcuts(e) {\n",
        "    if (e.key ==  'ArrowLeft') {\n",
        "        document.getElementById(\"prev_button\").click();\n",
        "    }\n",
        "    else if (e.key == 'ArrowRight') {\n",
        "        document.getElementById(\"next_button\").click();\n",
        "    }\n",
        "}\n",
        "document.addEventListener('keyup', shortcuts, false);\n",
        "</script>\n",
        "\"\"\"\n",
        "\n",
        "    with gr.Blocks(title=title, head=shortcut_js) as demo:\n",
        "\n",
        "        # 画面の配置\n",
        "        gr.Markdown(f\"# {title}\")\n",
        "        with gr.Row():\n",
        "            task_id = gr.Textbox(label=f\"タスクID (0 - {len(data) - 1})\")\n",
        "            prev_button = gr.Button(\"＜ 前のタスク\", elem_id=\"prev_button\")\n",
        "            next_button = gr.Button(\"次のタスク ＞\", elem_id=\"next_button\")\n",
        "        input_text = gr.Textbox(label=\"入力\", interactive=False)\n",
        "        with gr.Row():\n",
        "            output_old = gr.Textbox(\n",
        "                label=f\"{output_files.get('old')}の出力\", interactive=False\n",
        "            )\n",
        "            output_now = gr.Textbox(\n",
        "                label=f\"{output_files.get('now')}の出力\", interactive=False\n",
        "            )\n",
        "\n",
        "        # データ取得\n",
        "        idx = gr.State(0)\n",
        "\n",
        "        def get_data(i):\n",
        "            return data[i]\n",
        "\n",
        "        def get_data_by_task_id(task_id):\n",
        "            i = (\n",
        "                int(task_id)\n",
        "                if task_id.isdigit() and 0 <= int(task_id) < len(data)\n",
        "                else 0\n",
        "            )\n",
        "            return i, *data[i]\n",
        "\n",
        "        # 動作の設定\n",
        "        task_id.submit(\n",
        "            get_data_by_task_id,\n",
        "            task_id,\n",
        "            [idx, task_id, input_text, output_old, output_now],\n",
        "        )\n",
        "\n",
        "        prev_button.click(lambda x: max(0, x - 1), idx, idx).then(\n",
        "            get_data, idx, [task_id, input_text, output_old, output_now]\n",
        "        )\n",
        "\n",
        "        next_button.click(lambda x: min(len(data) - 1, x + 1), idx, idx).then(\n",
        "            get_data, idx, [task_id, input_text, output_old, output_now]\n",
        "        )\n",
        "\n",
        "        demo.load(get_data, idx, [task_id, input_text, output_old, output_now])\n",
        "\n",
        "    demo.launch()\n",
        "\n",
        "\n",
        "main()\n"
      ]
    },
    {
      "cell_type": "markdown",
      "metadata": {
        "id": "xhQjBeTyUedF"
      },
      "source": [
        "Gradioの画面が表示されますが狭いので、表示されている`https://xxxxxxxxxxxxxxxxx.gradio.live`へのリンクを開くと大きな画面で操作することができます。"
      ]
    }
  ],
  "metadata": {
    "language_info": {
      "name": "python"
    },
    "colab": {
      "provenance": [],
      "gpuType": "T4"
    },
    "kernelspec": {
      "name": "python3",
      "display_name": "Python 3"
    },
    "accelerator": "GPU"
  },
  "nbformat": 4,
  "nbformat_minor": 0
}